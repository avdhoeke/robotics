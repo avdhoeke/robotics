{
 "cells": [
  {
   "cell_type": "markdown",
   "metadata": {},
   "source": [
    "# Imports"
   ]
  },
  {
   "cell_type": "code",
   "execution_count": 4,
   "metadata": {},
   "outputs": [],
   "source": [
    "import cv2\n",
    "import numpy as np"
   ]
  },
  {
   "cell_type": "markdown",
   "metadata": {},
   "source": [
    "# Recording from a Webcam"
   ]
  },
  {
   "cell_type": "code",
   "execution_count": null,
   "metadata": {},
   "outputs": [],
   "source": [
    "import cv2\n",
    "\n",
    "# Recrod video from webcam number 0\n",
    "cap = cv2.VideoCapture(0)\n",
    "\n",
    "while(True):\n",
    "    # Capture frame-by-frame returns a bool (True/False). \n",
    "    # If frame is read correctly, it will be True.\n",
    "    ret, frame = cap.read()\n",
    "\n",
    "    # Our operations on the frame come here\n",
    "    gray = cv2.cvtColor(frame, cv2.COLOR_BGR2GRAY)\n",
    "\n",
    "    # Display the resulting frame\n",
    "    cv2.imshow('frame', gray)\n",
    "    if cv2.waitKey(1) & 0xFF == ord('q'):\n",
    "        break\n",
    "\n",
    "# When everything done, release the capture\n",
    "cap.release()\n",
    "cv2.destroyAllWindows()"
   ]
  },
  {
   "cell_type": "code",
   "execution_count": 1,
   "metadata": {},
   "outputs": [],
   "source": [
    "import cv2\n",
    "\n",
    "def main():\n",
    "    WINDOW_NAME = \"Robotics Project\"\n",
    "    cv2.namedWindow(WINDOW_NAME) # open a window to show debugging images\n",
    "    vc = cv2.VideoCapture(0) # Initialize the default camera\n",
    "    try:\n",
    "        if vc.isOpened(): # try to get the first frame\n",
    "            (readSuccessful, frame) = vc.read()\n",
    "        else:\n",
    "            raise(Exception(\"failed to open camera.\"))\n",
    "            readSuccessful = False\n",
    "    \n",
    "        while readSuccessful:\n",
    "            # Export frame in gray format\n",
    "            gray = cv2.cvtColor(frame, cv2.COLOR_BGR2GRAY)\n",
    "            # Display the resulting frame\n",
    "            cv2.imshow('frame', gray)\n",
    "            # Perform various actions on frame\n",
    "                #pupilOffsetXYList = getOffset(frame, allowDebugDisplay=True)\n",
    "            # Set refreshing time\n",
    "            key = cv2.waitKey(10)\n",
    "            if key == 27: # exit on ESC\n",
    "                #cv2.imwrite( \"lastOutput.png\", frame) #save the last-displayed image to file, for our report\n",
    "                break\n",
    "            # Get Image from camera\n",
    "            readSuccessful, frame = vc.read()\n",
    "    finally:\n",
    "        vc.release() #close the camera\n",
    "        cv2.destroyWindow(WINDOW_NAME) #close the window\n",
    "        cv2.waitKey(0)"
   ]
  },
  {
   "cell_type": "code",
   "execution_count": 2,
   "metadata": {},
   "outputs": [],
   "source": [
    "main()"
   ]
  },
  {
   "cell_type": "code",
   "execution_count": 3,
   "metadata": {},
   "outputs": [
    {
     "data": {
      "text/plain": [
       "2"
      ]
     },
     "execution_count": 3,
     "metadata": {},
     "output_type": "execute_result"
    }
   ],
   "source": [
    "1+1"
   ]
  },
  {
   "cell_type": "code",
   "execution_count": null,
   "metadata": {},
   "outputs": [],
   "source": []
  }
 ],
 "metadata": {
  "kernelspec": {
   "display_name": "Python 3",
   "language": "python",
   "name": "python3"
  },
  "language_info": {
   "codemirror_mode": {
    "name": "ipython",
    "version": 3
   },
   "file_extension": ".py",
   "mimetype": "text/x-python",
   "name": "python",
   "nbconvert_exporter": "python",
   "pygments_lexer": "ipython3",
   "version": "3.7.7"
  }
 },
 "nbformat": 4,
 "nbformat_minor": 4
}
